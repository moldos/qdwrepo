{
 "cells": [
  {
   "cell_type": "markdown",
   "metadata": {},
   "source": [
    "Env: ocean + dwave <br>\n",
    "Auth: sorin_moldoveanu <br>\n",
    "Referfences: https://docs.dwavesys.com/docs/latest<br>\n",
    "             http://docs.ocean.dwavesys.com/en/latest/overview/solving_problems.html<br>\n",
    "             https://github.com/ridgebacknet/dwave-tutorials<br>\n",
    "\n",
    "__NOT-gate_QUBO & custom annealing testing__\n",
    "\n",
    " f=2xz-x-z+1\n",
    " formulate as QUBO by shifting constant = -1<br>\n",
    " => f=2xz-x-z<br>\n",
    " => q1=q2=-1 q12=2 q21=0<br>\n",
    " \n",
    " $\\begin{split}Q = \\begin{bmatrix} -1 & 2 \\\\ 0 & -1 \\end{bmatrix}\\end{split}$\n"
   ]
  },
  {
   "cell_type": "code",
   "execution_count": 1,
   "metadata": {},
   "outputs": [
    {
     "name": "stdout",
     "output_type": "stream",
     "text": [
      "boolean NOT gate with default anneal schedule\n",
      "Anneal schedule 1:\n",
      "{0: 1, 4: 0} Energy:  -1.1 Occurrences:  803\n",
      "{0: 0, 4: 1} Energy:  -1.0 Occurrences:  197\n",
      "Anneal schedule 2:\n",
      "{0: 1, 4: 0} Energy:  -1.1 Occurrences:  832\n",
      "{0: 0, 4: 1} Energy:  -1.0 Occurrences:  168\n",
      "Anneal schedule 3:\n",
      "{0: 1, 4: 0} Energy:  -1.1 Occurrences:  841\n",
      "{0: 0, 4: 1} Energy:  -1.0 Occurrences:  159\n"
     ]
    }
   ],
   "source": [
    "# Reference: https://github.com/ridgebacknet/dwave-tutorials/blob/master/dwave-features/dwave-features-anneal-schedule.py\n",
    "# anneal schedules - 3 diff functions\n",
    "# a custom anneal schedule is a list of pairs: 1st number is the TIME \n",
    "#(in microseconds) 2nd number is the percentage of anneal (anneal goes from 0->1)\n",
    "\n",
    "from dwave.system.samplers import DWaveSampler\n",
    "\n",
    "#stinge anneal dupa 5 microsec; un ciclu tipic de anneal = 20 microsec\n",
    "def anneal_sched_custom_1():\n",
    "    return (\n",
    "            (0.0,0.0), #start\n",
    "            (5.0,1.0) #end anneal after 5 microsec\n",
    "            )\n",
    "    \n",
    "#set the anneal in steps\n",
    "def anneal_sched_custom_2():\n",
    "    return(\n",
    "            (0.0,0.0), #start\n",
    "            (5.0,0.5), #after 5 microsec go to 50%\n",
    "            (20.0,1.0) #end dupa 20 microsec\n",
    "            )\n",
    "#max custom steps for anneal cycle = 4\n",
    "def anneal_sched_custom_3():\n",
    "    return(\n",
    "            (0.0,0.0),\n",
    "            (1.0,0.8),\n",
    "            (19.0,0.81),\n",
    "            (20.0,1.0)\n",
    "            )\n",
    "\n",
    "print('boolean NOT gate with default anneal schedule')\n",
    "sampler=DWaveSampler()\n",
    "#add a small bias to q0 - for test purposes\n",
    "Q={(0,0):-1.1, (0,4):0, (4,0):2, (4,4):-1}\n",
    "\n",
    "response_1=sampler.sample_qubo(Q, anneal_schedule=anneal_sched_custom_1(),num_reads=1000)\n",
    "response_2=sampler.sample_qubo(Q, anneal_schedule=anneal_sched_custom_2(),num_reads=1000)\n",
    "response_3=sampler.sample_qubo(Q, anneal_schedule=anneal_sched_custom_3(),num_reads=1000)\n",
    "\n",
    "print('Anneal schedule 1:')\n",
    "for sample, energy, num_occurrences in response_1.data():\n",
    "    print(sample, \"Energy: \", energy, \"Occurrences: \", num_occurrences)\n",
    "print('Anneal schedule 2:')\n",
    "for sample, energy, num_occurrences in response_2.data():\n",
    "    print(sample, \"Energy: \", energy, \"Occurrences: \", num_occurrences)\n",
    "print('Anneal schedule 3:')\n",
    "for sample, energy, num_occurrences in response_3.data():\n",
    "    print(sample, \"Energy: \", energy, \"Occurrences: \", num_occurrences)\n"
   ]
  },
  {
   "cell_type": "code",
   "execution_count": null,
   "metadata": {},
   "outputs": [],
   "source": []
  }
 ],
 "metadata": {
  "kernelspec": {
   "display_name": "Python 3",
   "language": "python",
   "name": "python3"
  },
  "language_info": {
   "codemirror_mode": {
    "name": "ipython",
    "version": 3
   },
   "file_extension": ".py",
   "mimetype": "text/x-python",
   "name": "python",
   "nbconvert_exporter": "python",
   "pygments_lexer": "ipython3",
   "version": "3.7.1"
  }
 },
 "nbformat": 4,
 "nbformat_minor": 2
}
