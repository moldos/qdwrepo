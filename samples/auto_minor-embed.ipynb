{
 "cells": [
  {
   "cell_type": "markdown",
   "metadata": {},
   "source": [
    "Env: ocean + dwave <br>\n",
    "Auth: sorin_moldoveanu <br>\n",
    "Referfences: https://docs.dwavesys.com/docs/latest<br>\n",
    "             http://docs.ocean.dwavesys.com/en/latest/overview/solving_problems.html<br>\n",
    "           \n",
    "\n",
    "__Automated minor-embedding__\n",
    "\n",
    " problem: find min(a+b+c=1)<br>\n",
    " translate to qubo:<br>\n",
    "  => E(a,b,c)=(a+b+c-1)^2<br>\n",
    "  have in mind that a^2=b^2=c^2=1<br>\n",
    "=>E=2ab+2ac+2bc-a-b-c+1 <br>\n",
    "=> f=2x0x1+2x0x2+2x1x2-x0-x1-x2+1<br>\n",
    "\n",
    "Ocean sw can accept QUBO or ISING variables/problems doing minior-embedding heuristically. An example here:<br>"
   ]
  },
  {
   "cell_type": "code",
   "execution_count": 2,
   "metadata": {},
   "outputs": [
    {
     "name": "stdout",
     "output_type": "stream",
     "text": [
      "{'x0': 0, 'x1': 0, 'x2': 1} Energy: -1.0 Occurrences:  202\n",
      "{'x0': 1, 'x1': 0, 'x2': 0} Energy: -1.0 Occurrences:  220\n",
      "{'x0': 0, 'x1': 1, 'x2': 0} Energy: -1.0 Occurrences:  577\n",
      "{'x0': 1, 'x1': 1, 'x2': 0} Energy: 0.0 Occurrences:  1\n"
     ]
    }
   ],
   "source": [
    "from dwave.system.samplers import DWaveSampler\n",
    "from dwave.system.composites import EmbeddingComposite\n",
    "\n",
    "#QUBO formulation - coeficients\n",
    "linear={('x0','x0'):-1,('x1','x1'):-1,('x2','x2'):-1}\n",
    "quadratic={('x0','x1'):2,('x0','x2'):2,('x1','x2'):2}\n",
    "Q=dict(linear)\n",
    "Q.update(quadratic)\n",
    "\n",
    "#Auto minor-embed ; sample 1000 times on DEFAULT D-Wave connection/system\n",
    "response = EmbeddingComposite(DWaveSampler()).sample_qubo(Q,num_reads=1000)\n",
    "for datum in response.data(['sample', 'energy', 'num_occurrences']):     \n",
    "    print(datum.sample,\"Energy:\", datum.energy, \"Occurrences: \", datum.num_occurrences)"
   ]
  },
  {
   "cell_type": "code",
   "execution_count": null,
   "metadata": {},
   "outputs": [],
   "source": []
  }
 ],
 "metadata": {
  "kernelspec": {
   "display_name": "Python 3",
   "language": "python",
   "name": "python3"
  },
  "language_info": {
   "codemirror_mode": {
    "name": "ipython",
    "version": 3
   },
   "file_extension": ".py",
   "mimetype": "text/x-python",
   "name": "python",
   "nbconvert_exporter": "python",
   "pygments_lexer": "ipython3",
   "version": "3.7.1"
  }
 },
 "nbformat": 4,
 "nbformat_minor": 2
}
