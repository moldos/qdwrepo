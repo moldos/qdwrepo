{
 "cells": [
  {
   "cell_type": "markdown",
   "metadata": {},
   "source": [
    "Env: ocean + dwave <br>\n",
    "Auth: sorin_moldoveanu <br>\n",
    "Referfences: https://docs.dwavesys.com/docs/latest<br>\n",
    "             http://docs.ocean.dwavesys.com/en/latest/overview/solving_problems.html<br>\n",
    "           \n",
    "\n",
    "__Sample packing__\n",
    "\n",
    " problem packing: choose from 5 masses and place into 4  shelfs such subject to m_max and max space<br>\n",
    " NOTE: for the time being not working with auto-embedding<br>\n",
    " "
   ]
  },
  {
   "cell_type": "code",
   "execution_count": 20,
   "metadata": {},
   "outputs": [
    {
     "name": "stdout",
     "output_type": "stream",
     "text": [
      "2.624 -0.13940000000000002 -0.0403 -0.1201 -0.0529\n",
      "0 3.988 -0.06010000000000001 -0.18169999999999997 -0.0793\n",
      "0 0 1.1260000000000001 -0.05165 -0.022850000000000002\n",
      "0 0 0 3.4819999999999998 -0.06845\n",
      "0 0 0 0 1.498\n",
      "\n",
      "\n",
      "Q: {('x0', 'x0'): 2.624, ('x1', 'x1'): 3.988, ('x2', 'x2'): 1.1260000000000001, ('x3', 'x3'): 3.4819999999999998, ('x4', 'x4'): 1.498, ('x0', 'x1'): -0.13940000000000002, ('x0', 'x2'): -0.0403, ('x0', 'x3'): -0.1201, ('x0', 'x4'): -0.0529, ('x1', 'x2'): -0.06010000000000001, ('x1', 'x3'): -0.18169999999999997, ('x1', 'x4'): -0.0793, ('x2', 'x3'): -0.05165, ('x2', 'x4'): -0.022850000000000002, ('x3', 'x4'): -0.06845}\n",
      "\n",
      "avail_qbubits: [0, 1, 2, 3, 4, 5, 6, 7]\n"
     ]
    }
   ],
   "source": [
    "#imports\n",
    "\n",
    "from dwave.system.samplers import DWaveSampler\n",
    "from dwave.system.composites import EmbeddingComposite\n",
    "import numpy as np\n",
    "\n",
    "m_max=6\n",
    "n=5\n",
    "N=4  # as defined into the original problem there are 2 storage locations; here we use a location = 1/2 of original\n",
    "p = 0.02\n",
    "M=np.array([2.1, 3.2, 0.9, 2.8, 1.2])\n",
    "#M=np.array([2.1/6, 3.2/6, 0.9/6, 0.8/6, 1.2/6]) # in this case is reported to m_max; m_max becomes = 1\n",
    "K=np.array([0.5,0.5,0.25,0.25,0.25])\n",
    "e=np.ones(n)\n",
    "qubo = [[0]*n for i in range(n)]\n",
    "\n",
    "for i in range(n):\n",
    "    qubo[i][i]= +2*p*K[i] + (1+2*p*m_max)*M[i]\n",
    "\n",
    "for i in range(n):\n",
    "    for j in range(i+1,n):\n",
    "        qubo[i][j] = -p*(K[i]*K[j] + M[i]*M[j])\n",
    "\n",
    "#for i in range(n):\n",
    "#    for j in range(0,i):\n",
    "#        qubo[i][j] = -p*(K[i]*K[j]+ M[i]*M[j])\n",
    "\n",
    "for row in qubo:\n",
    "    print(' '.join([str(elem) for elem in row]))\n",
    "print('\\n')\n",
    "\n",
    "#biases={(0,0):qubo[0][0],(1,1):qubo[1][1],(2,2):qubo[2][2],(3,3):qubo[3][3],(4,4):qubo[4][4]}\n",
    "biases={('x0','x0'):qubo[0][0],('x1','x1'):qubo[1][1],('x2','x2'):qubo[2][2],('x3','x3'):qubo[3][3],('x4','x4'):qubo[4][4]}\n",
    "\n",
    "#couplers={(0,1):qubo[0][1],(0,2):qubo[0][2],(0,3):qubo[0][3],(0,4):qubo[0][4],\n",
    "#          (1,0):qubo[1][0],(1,2):qubo[1][2],(1,3):qubo[1][3],(1,4):qubo[1][4],\n",
    "#          (2,0):qubo[2][0],(2,1):qubo[2][1],(2,3):qubo[2][3],(2,4):qubo[2][4],\n",
    "#          (3,0):qubo[3][0],(3,1):qubo[3][1],(3,2):qubo[3][2],(3,4):qubo[3][4],\n",
    "#          (4,0):qubo[4][0],(4,1):qubo[4][1],(4,2):qubo[4][2],(4,3):qubo[4][3]}\n",
    "\n",
    "couplers={('x0','x1'):qubo[0][1],('x0','x2'):qubo[0][2],('x0','x3'):qubo[0][3],('x0','x4'):qubo[0][4],\n",
    "          ('x1','x2'):qubo[1][2],('x1','x3'):qubo[1][3],('x1','x4'):qubo[1][4],\n",
    "          ('x2','x3'):qubo[2][3],('x2','x4'):qubo[2][4],\n",
    "          ('x3','x4'):qubo[3][4]}\n",
    "          \n",
    "Q=dict(biases)\n",
    "Q.update(couplers)\n",
    "print('Q:',Q)\n",
    "print('\\navail_qbubits:',DWaveSampler().nodelist[0:8]) \n"
   ]
  },
  {
   "cell_type": "code",
   "execution_count": 17,
   "metadata": {},
   "outputs": [
    {
     "name": "stdout",
     "output_type": "stream",
     "text": [
      "  x0 x1 x2 x3 x4 energy num_oc. chain_.\n",
      "0  0  0  0  0  0    0.0     299     0.0\n",
      "1  1  0  0  0  0  2.624       1     0.0\n",
      "['BINARY', 2 rows, 300 samples, 5 variables]\n"
     ]
    }
   ],
   "source": [
    "response = EmbeddingComposite(DWaveSampler()).sample_qubo(Q, num_reads=300)\n",
    "#for datum in response.data(['sample', 'energy', 'num_occurrences']):     \n",
    "#   print(datum.sample,\"Energy:\", datum.energy, \"Occurrences: \", datum.num_occurrences)\n",
    "print(response)"
   ]
  },
  {
   "cell_type": "code",
   "execution_count": null,
   "metadata": {},
   "outputs": [],
   "source": []
  }
 ],
 "metadata": {
  "kernelspec": {
   "display_name": "Python 3",
   "language": "python",
   "name": "python3"
  },
  "language_info": {
   "codemirror_mode": {
    "name": "ipython",
    "version": 3
   },
   "file_extension": ".py",
   "mimetype": "text/x-python",
   "name": "python",
   "nbconvert_exporter": "python",
   "pygments_lexer": "ipython3",
   "version": "3.7.1"
  }
 },
 "nbformat": 4,
 "nbformat_minor": 2
}
