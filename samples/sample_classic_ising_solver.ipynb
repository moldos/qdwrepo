{
 "cells": [
  {
   "cell_type": "markdown",
   "metadata": {},
   "source": [
    "Env: ocean + dwave<br>\n",
    "Auth: sorin_moldoveanu<br>\n",
    "References: https://docs.dwavesys.com/docs/latest<br>\n",
    "\n",
    "__Sample using ising model and classic solver__\n",
    "\n",
    " f=-q1-q2+2q1q2<br>\n",
    " for Ising map s=2q-1 => q=(1+s)/2<br>\n",
    " => f()=(s1s2-1)/2<br>\n",
    " clasical sampler is from dimod<br>"
   ]
  },
  {
   "cell_type": "code",
   "execution_count": 1,
   "metadata": {},
   "outputs": [
    {
     "name": "stdout",
     "output_type": "stream",
     "text": [
      "{0: -1, 1: -1} -1.0\n",
      "{0: 1, 1: 1} -1.0\n",
      "{0: 1, 1: -1} 1.0\n",
      "{0: -1, 1: 1} 1.0\n"
     ]
    }
   ],
   "source": [
    "# f=-q1-q2+2q1q2\n",
    "# pt Ising map s=2q-1 => q=(1+s)/2\n",
    "# => f()=(s1s2-1)/2\n",
    "# clasical sampler is from dimod\n",
    "#STEP 1 - how to construct QUBO sau ISING\n",
    "import dimod\n",
    "#construct QUBO\n",
    "#bqm=dimod.BinaryQuadraticModel({0:-1,1:-1},{(0,1):2}, 0.0, dimod.BINARY)\n",
    "#construct ISING\n",
    "#bqm_ising=bqm.change_vartype(dimod.SPIN, inplace=False)\n",
    "#STEP 2 - other way arround with other ini q\n",
    "h={0:0. , 1:0.} #bias\n",
    "J={(0,1):-1.0} #coupler\n",
    "bqm=dimod.BinaryQuadraticModel.from_ising(h,J)\n",
    "response=dimod.ExactSolver().sample(bqm)\n",
    "for sample, energy in response.data(['sample', 'energy']): print(sample,energy)"
   ]
  },
  {
   "cell_type": "code",
   "execution_count": null,
   "metadata": {},
   "outputs": [],
   "source": []
  }
 ],
 "metadata": {
  "kernelspec": {
   "display_name": "Python 3",
   "language": "python",
   "name": "python3"
  },
  "language_info": {
   "codemirror_mode": {
    "name": "ipython",
    "version": 3
   },
   "file_extension": ".py",
   "mimetype": "text/x-python",
   "name": "python",
   "nbconvert_exporter": "python",
   "pygments_lexer": "ipython3",
   "version": "3.7.1"
  }
 },
 "nbformat": 4,
 "nbformat_minor": 2
}
