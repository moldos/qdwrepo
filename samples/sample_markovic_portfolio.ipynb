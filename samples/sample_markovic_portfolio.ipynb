{
 "cells": [
  {
   "cell_type": "markdown",
   "metadata": {},
   "source": [
    "Env: ocean + dwave <br>\n",
    "Auth: sorin_moldoveanu <br>\n",
    "Referfences: https://docs.dwavesys.com/docs/latest<br>\n",
    "             http://docs.ocean.dwavesys.com/en/latest/overview/solving_problems.html<br>\n",
    "           \n",
    "\n",
    "__Sample Portfolio__\n",
    "\n",
    " problem: Markovic portfolio<br>\n",
    " \n",
    " $min_{x \\in \\{0, 1\\}^n} q x^T \\Sigma x -\\mu^Tx$ <br>\n",
    " subject to<br>\n",
    " $1^Tx=B$\n",
    " "
   ]
  },
  {
   "cell_type": "code",
   "execution_count": 30,
   "metadata": {},
   "outputs": [
    {
     "name": "stdout",
     "output_type": "stream",
     "text": [
      "QUBO\n",
      "19.25679290017624 -4.708991867008319 -4.6747990440603955 -4.607279672134617 -4.76833136908724\n",
      "0 19.148948610891445 -4.67023161933787 -4.8031121726290715 -4.516346157374592\n",
      "0 0 19.595189393266498 -4.6841940259729204 -4.70960976139324\n",
      "0 0 0 19.392458495976697 -4.5531782831481555\n",
      "0 0 0 0 19.559405511262703\n",
      "\n",
      "\n",
      "ISING\n",
      "-2.203087367215379 1.3227520332479203 1.3313002389849011 1.3481800819663456 1.30791715772819\n",
      "0 -2.104288767917947 1.3324420951655325 1.2992219568427321 1.370913460656352\n",
      "0 0 -2.3642308985026195 1.3289514935067699 1.32259755965169\n",
      "0 0 0 -2.3414620717799304 1.3617054292129611\n",
      "0 0 0 0 -2.4660565566778927\n",
      "\n",
      "\n"
     ]
    }
   ],
   "source": [
    "#imports\n",
    "\n",
    "from dwave.system.samplers import DWaveSampler\n",
    "from dwave.system.composites import EmbeddingComposite\n",
    "import numpy as np\n",
    "import dimod\n",
    "#from sklearn.datasets import make_spd_matrix\n",
    "\n",
    "n=5\n",
    "penalty=5\n",
    "budget=int(n/2) \n",
    "q=0.5\n",
    "mu = np.random.uniform(size=n, low=0, high=1)\n",
    "sigma = np.random.rand(n,n) #make_spd_matrix(n)\n",
    "e=np.ones(n)\n",
    "E = np.matmul(np.asmatrix(e).T, np.asmatrix(e))\n",
    "offset_H = - np.dot(mu, e)/2 + penalty*budget**2 - budget*n*penalty + n**2*penalty/4 + q/4*np.dot(e, np.dot(sigma, e))\n",
    "offset_Q = -penalty*budget**2\n",
    "\n",
    "qubo = [[0]*n for i in range(n)]\n",
    "for i in range(n):\n",
    "    qubo[i][i]=  -mu[i] + 2*penalty*budget\n",
    "for i in range(n):\n",
    "    for j in range(i+1,n):\n",
    "        qubo[i][j] = -penalty + q*sigma[i][j]\n",
    "\n",
    "\n",
    "print('QUBO')\n",
    "for row in qubo:\n",
    "    print(' '.join([str(elem) for elem in row]))\n",
    "print('\\n')\n",
    "\n",
    "biases={('x0','x0'):qubo[0][0],('x1','x1'):qubo[1][1],('x2','x2'):qubo[2][2],('x3','x3'):qubo[3][3],\n",
    "        ('x4','x4'):qubo[4][4]}\n",
    "#biases={('x0','x0'):qubo[0][0],('x1','x1'):qubo[1][1],('x2','x2'):qubo[2][2],('x3','x3'):qubo[3][3]}\n",
    "\n",
    "couplers={('x0','x1'):qubo[0][1],('x0','x2'):qubo[0][2],('x0','x3'):qubo[0][3],('x0','x4'):qubo[0][4],\n",
    "          ('x1','x2'):qubo[1][2],('x1','x3'):qubo[1][3],('x1','x4'):qubo[1][4],\n",
    "          ('x2','x3'):qubo[2][3],('x2','x4'):qubo[2][4],\n",
    "          ('x3','x4'):qubo[3][4]}\n",
    "\n",
    "#couplers={('x0','x1'):qubo[0][1],('x0','x2'):qubo[0][2],('x0','x3'):qubo[0][3],\n",
    "#          ('x1','x2'):qubo[1][2],('x1','x3'):qubo[1][3],\n",
    "#          ('x2','x3'):qubo[2][3]}\n",
    "\n",
    "quis = [[0]*n for i in range(n)]\n",
    "for i in range(n):\n",
    "    quis[i][i]=  mu[i]/2 + budget*penalty - n*penalty/2 - q/2*sigma[i][i]\n",
    "for i in range(n):\n",
    "    for j in range(i+1,n):\n",
    "        quis[i][j] = penalty/4 + q/4*sigma[i][j]\n",
    "lin_h={('x0','x0'):quis[0][0],('x1','x1'):quis[1][1],('x2','x2'):quis[2][2],('x3','x3'):quis[3][3],\n",
    "       ('x4','x4'):quis[4][4]}\n",
    "quad_J={('x0','x1'):quis[0][1],('x0','x2'):quis[0][2],('x0','x3'):quis[0][3],('x0','x4'):quis[0][4],\n",
    "          ('x1','x2'):quis[1][2],('x1','x3'):quis[1][3],('x1','x4'):quis[1][4],\n",
    "          ('x2','x3'):quis[2][3],('x2','x4'):quis[2][4],\n",
    "          ('x3','x4'):quis[3][4]}\n",
    "print('ISING')\n",
    "for row in quis:\n",
    "    print(' '.join([str(elem) for elem in row]))\n",
    "print('\\n')\n",
    "\n",
    "bqm=dimod.BinaryQuadraticModel(biases,couplers,offset_Q,dimod.BINARY)\n",
    "#Q=dict(biases)\n",
    "#Q.update(couplers)\n",
    "Q=dict(lin_h)\n",
    "Q.update(quad_J)\n",
    "#print('Q:',Q)\n",
    "#print('\\navail_qbubits:',DWaveSampler().nodelist[0:8]) \n"
   ]
  },
  {
   "cell_type": "code",
   "execution_count": 27,
   "metadata": {},
   "outputs": [
    {
     "name": "stdout",
     "output_type": "stream",
     "text": [
      "[([0, 0, 0, 0, 0, 0, 0, 0, 0, 0], -20.        , 1)\n",
      " ([1, 0, 0, 0, 0, 0, 0, 0, 0, 0],  -0.26808342, 1)\n",
      " ([1, 1, 0, 0, 0, 0, 0, 0, 0, 0],  18.91534126, 1) ...\n",
      " ([1, 1, 0, 0, 0, 0, 0, 0, 0, 1],  18.91534126, 1)\n",
      " ([1, 0, 0, 0, 0, 0, 0, 0, 0, 1],  -0.26808342, 1)\n",
      " ([0, 0, 0, 0, 0, 0, 0, 0, 0, 1], -20.        , 1)]\n"
     ]
    }
   ],
   "source": [
    "response=dimod.ExactSolver().sample(bqm)\n",
    "#print(response)\n",
    "#for sample, energy in response.data(['sample', 'energy']): print(sample,energy)\n",
    "print(response.record)"
   ]
  },
  {
   "cell_type": "code",
   "execution_count": 31,
   "metadata": {},
   "outputs": [
    {
     "name": "stdout",
     "output_type": "stream",
     "text": [
      "   x0 x1 x2 x3 x4   energy num_oc. chain_.\n",
      "0   0  0  1  0  1 -3.50769     172     0.0\n",
      "1   0  0  0  1  1 -3.445813     107     0.0\n",
      "2   0  0  1  1  0 -3.376741     113     0.0\n",
      "3   1  0  0  0  1 -3.361227      51     0.0\n",
      "4   1  0  1  0  0 -3.236018      47     0.0\n",
      "5   0  1  0  0  1 -3.199432      15     0.0\n",
      "6   1  0  0  1  0 -3.196369      32     0.0\n",
      "7   0  0  1  1  1 -3.158495      11     0.0\n",
      "8   0  1  0  1  0 -3.146529      18     0.0\n",
      "9   0  1  1  0  0 -3.136078      23     0.0\n",
      "10  1  0  0  1  1 -2.992803       3     0.0\n",
      "11  1  1  0  0  0 -2.984624       4     0.0\n",
      "12  0  1  1  0  1 -2.908623       1     0.0\n",
      "13  0  1  1  1  0 -2.849366       1     0.0\n",
      "14  1  1  0  0  1 -2.77185       1     0.0\n",
      "15  1  1  0  1  0 -2.678684       1     0.0\n",
      "['BINARY', 16 rows, 600 samples, 5 variables]\n"
     ]
    }
   ],
   "source": [
    "sampler = EmbeddingComposite(DWaveSampler())\n",
    "response = sampler.sample_qubo(Q, num_reads=600)\n",
    "#response = EmbeddingComposite(DWaveSampler()).sample_qubo(Q, num_reads=300)\n",
    "#for datum in response.data(['sample', 'energy', 'num_occurrences']):     \n",
    "#   print(datum.sample,\"Energy:\", datum.energy, \"Occurrences: \", datum.num_occurrences)\n",
    "print(response)"
   ]
  },
  {
   "cell_type": "code",
   "execution_count": 32,
   "metadata": {},
   "outputs": [
    {
     "name": "stdout",
     "output_type": "stream",
     "text": [
      "[([ 1,  1,  1,  1,  1,  1, -1,  1,  1,  1], -8.80380325, 236, 0.3)\n",
      " ([ 1,  1,  1,  1,  1,  1,  1,  1,  1, -1], -8.87941137, 363, 0.3)\n",
      " ([ 1, -1,  1,  1,  1,  1, -1,  1,  1,  1], -4.59522571,   1, 0.3)]\n"
     ]
    }
   ],
   "source": [
    "sampler = EmbeddingComposite(DWaveSampler())\n",
    "response = sampler.sample_ising(lin_h,quad_J, num_reads=600)\n",
    "print(response.record)"
   ]
  },
  {
   "cell_type": "code",
   "execution_count": null,
   "metadata": {},
   "outputs": [],
   "source": []
  }
 ],
 "metadata": {
  "kernelspec": {
   "display_name": "Python 3",
   "language": "python",
   "name": "python3"
  },
  "language_info": {
   "codemirror_mode": {
    "name": "ipython",
    "version": 3
   },
   "file_extension": ".py",
   "mimetype": "text/x-python",
   "name": "python",
   "nbconvert_exporter": "python",
   "pygments_lexer": "ipython3",
   "version": "3.7.1"
  }
 },
 "nbformat": 4,
 "nbformat_minor": 2
}
