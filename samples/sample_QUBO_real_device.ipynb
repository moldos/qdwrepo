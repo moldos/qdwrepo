{
 "cells": [
  {
   "cell_type": "markdown",
   "metadata": {},
   "source": [
    "Env: ocean + dwave <br>\n",
    "Auth: sorin_moldoveanu <br>\n",
    "Referfences: https://docs.dwavesys.com/docs/latest<br>\n",
    "             http://docs.ocean.dwavesys.com/en/latest/overview/solving_problems.html<br>\n",
    "           \n",
    "\n",
    "__Sample QUBO on real device__\n",
    "\n",
    " problem: find min(a+b+c=1)<br>\n",
    "  => E(a,b,c)=(a+b+c-1)**2<br>\n",
    "  have in mind that a**2=b**2=c**2=1<br>\n",
    "=>E=2ab+2ac+2bc-a-b-c+1<br> \n",
    "=> f=2x0x1+2x0x2+2x1x2-x0-x1-x2+1<br><br>\n",
    "\n",
    "STEP 2 - coupler mapping<br>\n",
    "because of chimera architecture we have to use <br>\n",
    " a -> q4 cu bias = -1<br>\n",
    " c -> q1 cu bias = -1<br>\n",
    " b -> q0 and q5<br>\n",
    " because b=q0=q5 => we bias with -0.5<br>\n",
    " we set couplig for q0-q5 as -3 (>2 - rest of the couplers)<br>\n",
    " we have to compensate q0-q5=-3 via bias of q0,q5 =><br>\n",
    " => +bias of q0=q5 cu +1.5<br><br>\n",
    " \n",
    "STEP 3<br>\n",
    " we normalize the entire graph dividing by 3<br>\n",
    " =><br>\n",
    " bias q4=q1=-0.33 and q0=q5=(-0.5+1.5)/3=0.33<br>\n",
    " coupler q14=q04=q15=2/3=0.667 and q05=-3/3=-1<br>"
   ]
  },
  {
   "cell_type": "code",
   "execution_count": 1,
   "metadata": {},
   "outputs": [
    {
     "name": "stdout",
     "output_type": "stream",
     "text": [
      "valid_nodes= [0, 1, 2, 3, 4, 5, 6, 7]\n",
      "response= {0: 0, 1: 0, 4: 1, 5: 0}\n"
     ]
    }
   ],
   "source": [
    "from dwave.system.samplers import DWaveSampler\n",
    "#check the status of the qubits\n",
    "print('valid_nodes=',DWaveSampler().nodelist[0:8])\n",
    "#solve\n",
    "qubit_biases={(0,0):0.333,(1,1):-0.333,(4,4):-0.333,(5,5):0.333}\n",
    "coupler_strengths={(0,4):0.667,(1,4):0.667,(1,5):0.667,(0,5):-1.}\n",
    "Q=dict(qubit_biases)\n",
    "Q.update(coupler_strengths)\n",
    "#sample once on DWave\n",
    "response=DWaveSampler().sample_qubo(Q, num_reads=1)\n",
    "print('response=',next(response.samples()))"
   ]
  },
  {
   "cell_type": "code",
   "execution_count": 2,
   "metadata": {},
   "outputs": [
    {
     "name": "stdout",
     "output_type": "stream",
     "text": [
      "answ= {0: 1, 1: 0, 4: 0, 5: 1} Energy= -0.3339999999999999 Occurences= 403\n",
      "answ= {0: 0, 1: 0, 4: 1, 5: 0} Energy= -0.333 Occurences= 469\n",
      "answ= {0: 0, 1: 1, 4: 0, 5: 0} Energy= -0.333 Occurences= 127\n",
      "answ= {0: 1, 1: 0, 4: 1, 5: 1} Energy= 5.551115123125783e-17 Occurences= 1\n"
     ]
    }
   ],
   "source": [
    "#sample 1000 time on DWave\n",
    "response=DWaveSampler().sample_qubo(Q, num_reads=1000)\n",
    "for (sample,energy,num) in response.data():\n",
    "    print('answ=',sample,'Energy=',energy,'Occurences=',num)"
   ]
  },
  {
   "cell_type": "code",
   "execution_count": null,
   "metadata": {},
   "outputs": [],
   "source": []
  }
 ],
 "metadata": {
  "kernelspec": {
   "display_name": "Python 3",
   "language": "python",
   "name": "python3"
  },
  "language_info": {
   "codemirror_mode": {
    "name": "ipython",
    "version": 3
   },
   "file_extension": ".py",
   "mimetype": "text/x-python",
   "name": "python",
   "nbconvert_exporter": "python",
   "pygments_lexer": "ipython3",
   "version": "3.7.1"
  }
 },
 "nbformat": 4,
 "nbformat_minor": 2
}
